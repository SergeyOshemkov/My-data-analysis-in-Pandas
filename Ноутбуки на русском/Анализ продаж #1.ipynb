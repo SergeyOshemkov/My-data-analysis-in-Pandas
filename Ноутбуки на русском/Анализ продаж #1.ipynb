{
 "cells": [
  {
   "cell_type": "markdown",
   "metadata": {},
   "source": [
    "# Мини-проект: анализ продаж."
   ]
  },
  {
   "cell_type": "code",
   "execution_count": 5,
   "metadata": {},
   "outputs": [],
   "source": [
    "# Задачи:\n",
    "\n",
    "# Подготовка датасета.\n",
    "# Слияние серии файлов в единый датафрейм.\n",
    "# Найти клиентов, совершивших наибольшее количество покупок.\n",
    "# Найти топ 10 проданных товаров (по количеству) и посторить barplot.\n",
    "# Посчитать как много продано товаров с id = 56 (товаров с этим id, но проданных в разные дни).\n",
    "# Построить график рапсределения продаж по дням.\n",
    "# Найти количество клиентов, совершивших повторные покупки (товаров с одинаковым id, но купленных \n",
    "# в разные дни).\n",
    "# Построить распределение продаж по дням и найти дни с минимальным и максимальным числом покупок.\n",
    "# Найти сколько клиентов совершили повторные покупки в разные дни."
   ]
  },
  {
   "cell_type": "code",
   "execution_count": 15,
   "metadata": {},
   "outputs": [
    {
     "data": {
      "text/plain": [
       "['Alexey_Smirnov',\n",
       " 'Anton_Petrov',\n",
       " 'Kirill_Petrov',\n",
       " 'Petr_Fedorov',\n",
       " 'Vasiliy_Ivanov',\n",
       " 'Vasiliy_Petrov']"
      ]
     },
     "execution_count": 15,
     "metadata": {},
     "output_type": "execute_result"
    }
   ],
   "source": [
    "# Подготовка датасета:\n",
    "\n",
    "import os\n",
    "import pandas as pd\n",
    "import seaborn as sns\n",
    "\n",
    "path = 'c:/data'\n",
    "\n",
    "os.listdir('c:/data/2020-12-03')"
   ]
  },
  {
   "cell_type": "code",
   "execution_count": 16,
   "metadata": {},
   "outputs": [
    {
     "data": {
      "text/plain": [
       "[('c:/data',\n",
       "  ['2020-12-03',\n",
       "   '2020-12-04',\n",
       "   '2020-12-05',\n",
       "   '2020-12-06',\n",
       "   '2020-12-07',\n",
       "   '2020-12-08',\n",
       "   '2020-12-09'],\n",
       "  []),\n",
       " ('c:/data\\\\2020-12-03',\n",
       "  ['Alexey_Smirnov',\n",
       "   'Anton_Petrov',\n",
       "   'Kirill_Petrov',\n",
       "   'Petr_Fedorov',\n",
       "   'Vasiliy_Ivanov',\n",
       "   'Vasiliy_Petrov'],\n",
       "  []),\n",
       " ('c:/data\\\\2020-12-03\\\\Alexey_Smirnov', [], ['data.csv']),\n",
       " ('c:/data\\\\2020-12-03\\\\Anton_Petrov', [], ['data.csv']),\n",
       " ('c:/data\\\\2020-12-03\\\\Kirill_Petrov', [], ['data.csv']),\n",
       " ('c:/data\\\\2020-12-03\\\\Petr_Fedorov', [], ['data.csv']),\n",
       " ('c:/data\\\\2020-12-03\\\\Vasiliy_Ivanov', [], ['data.csv']),\n",
       " ('c:/data\\\\2020-12-03\\\\Vasiliy_Petrov', [], ['data.csv']),\n",
       " ('c:/data\\\\2020-12-04',\n",
       "  ['Alexey_Smirnov',\n",
       "   'Kirill_Fedorov',\n",
       "   'Petr_Fedorov',\n",
       "   'Petr_Ivanov',\n",
       "   'Petr_Smirnov',\n",
       "   'Rostislav_Fedorov',\n",
       "   'Rostislav_Ivanov',\n",
       "   'Rostislav_Smirnov',\n",
       "   'Vasiliy_Ivanov'],\n",
       "  []),\n",
       " ('c:/data\\\\2020-12-04\\\\Alexey_Smirnov', [], ['data.csv']),\n",
       " ('c:/data\\\\2020-12-04\\\\Kirill_Fedorov', [], ['data.csv']),\n",
       " ('c:/data\\\\2020-12-04\\\\Petr_Fedorov', [], ['data.csv']),\n",
       " ('c:/data\\\\2020-12-04\\\\Petr_Ivanov', [], ['data.csv']),\n",
       " ('c:/data\\\\2020-12-04\\\\Petr_Smirnov', [], ['data.csv']),\n",
       " ('c:/data\\\\2020-12-04\\\\Rostislav_Fedorov', [], ['data.csv']),\n",
       " ('c:/data\\\\2020-12-04\\\\Rostislav_Ivanov', [], ['data.csv']),\n",
       " ('c:/data\\\\2020-12-04\\\\Rostislav_Smirnov', [], ['data.csv']),\n",
       " ('c:/data\\\\2020-12-04\\\\Vasiliy_Ivanov', [], ['data.csv']),\n",
       " ('c:/data\\\\2020-12-05',\n",
       "  ['Alexey_Fedorov',\n",
       "   'Alexey_Petrov',\n",
       "   'Kirill_Smirnov',\n",
       "   'Petr_Ivanov',\n",
       "   'Petr_Smirnov',\n",
       "   'Rostislav_Smirnov'],\n",
       "  []),\n",
       " ('c:/data\\\\2020-12-05\\\\Alexey_Fedorov', [], ['data.csv']),\n",
       " ('c:/data\\\\2020-12-05\\\\Alexey_Petrov', [], ['data.csv']),\n",
       " ('c:/data\\\\2020-12-05\\\\Kirill_Smirnov', [], ['data.csv']),\n",
       " ('c:/data\\\\2020-12-05\\\\Petr_Ivanov', [], ['data.csv']),\n",
       " ('c:/data\\\\2020-12-05\\\\Petr_Smirnov', [], ['data.csv']),\n",
       " ('c:/data\\\\2020-12-05\\\\Rostislav_Smirnov', [], ['data.csv']),\n",
       " ('c:/data\\\\2020-12-06', ['Vasiliy_Fedorov'], []),\n",
       " ('c:/data\\\\2020-12-06\\\\Vasiliy_Fedorov', [], ['data.csv']),\n",
       " ('c:/data\\\\2020-12-07',\n",
       "  ['Alexey_Fedorov',\n",
       "   'Alexey_Ivanov',\n",
       "   'Alexey_Smirnov',\n",
       "   'Anton_Ivanov',\n",
       "   'Anton_Smirnov',\n",
       "   'Kirill_Fedorov',\n",
       "   'Petr_Fedorov',\n",
       "   'Petr_Smirnov',\n",
       "   'Rostislav_Fedorov',\n",
       "   'Vasiliy_Ivanov'],\n",
       "  []),\n",
       " ('c:/data\\\\2020-12-07\\\\Alexey_Fedorov', [], ['data.csv']),\n",
       " ('c:/data\\\\2020-12-07\\\\Alexey_Ivanov', [], ['data.csv']),\n",
       " ('c:/data\\\\2020-12-07\\\\Alexey_Smirnov', [], ['data.csv']),\n",
       " ('c:/data\\\\2020-12-07\\\\Anton_Ivanov', [], ['data.csv']),\n",
       " ('c:/data\\\\2020-12-07\\\\Anton_Smirnov', [], ['data.csv']),\n",
       " ('c:/data\\\\2020-12-07\\\\Kirill_Fedorov', [], ['data.csv']),\n",
       " ('c:/data\\\\2020-12-07\\\\Petr_Fedorov', [], ['data.csv']),\n",
       " ('c:/data\\\\2020-12-07\\\\Petr_Smirnov', [], ['data.csv']),\n",
       " ('c:/data\\\\2020-12-07\\\\Rostislav_Fedorov', [], ['data.csv']),\n",
       " ('c:/data\\\\2020-12-07\\\\Vasiliy_Ivanov', [], ['data.csv']),\n",
       " ('c:/data\\\\2020-12-08',\n",
       "  ['Alexey_Fedorov',\n",
       "   'Anton_Smirnov',\n",
       "   'Kirill_Smirnov',\n",
       "   'Petr_Petrov',\n",
       "   'Rostislav_Petrov'],\n",
       "  []),\n",
       " ('c:/data\\\\2020-12-08\\\\Alexey_Fedorov', [], ['data.csv']),\n",
       " ('c:/data\\\\2020-12-08\\\\Anton_Smirnov', [], ['data.csv']),\n",
       " ('c:/data\\\\2020-12-08\\\\Kirill_Smirnov', [], ['data.csv']),\n",
       " ('c:/data\\\\2020-12-08\\\\Petr_Petrov', [], ['data.csv']),\n",
       " ('c:/data\\\\2020-12-08\\\\Rostislav_Petrov', [], ['data.csv']),\n",
       " ('c:/data\\\\2020-12-09',\n",
       "  ['Alexey_Smirnov',\n",
       "   'Anton_Ivanov',\n",
       "   'Anton_Petrov',\n",
       "   'Anton_Smirnov',\n",
       "   'Petr_Fedorov',\n",
       "   'Rostislav_Petrov',\n",
       "   'Vasiliy_Ivanov'],\n",
       "  []),\n",
       " ('c:/data\\\\2020-12-09\\\\Alexey_Smirnov', [], ['data.csv']),\n",
       " ('c:/data\\\\2020-12-09\\\\Anton_Ivanov', [], ['data.csv']),\n",
       " ('c:/data\\\\2020-12-09\\\\Anton_Petrov', [], ['data.csv']),\n",
       " ('c:/data\\\\2020-12-09\\\\Anton_Smirnov', [], ['data.csv']),\n",
       " ('c:/data\\\\2020-12-09\\\\Petr_Fedorov', [], ['data.csv']),\n",
       " ('c:/data\\\\2020-12-09\\\\Rostislav_Petrov', [], ['data.csv']),\n",
       " ('c:/data\\\\2020-12-09\\\\Vasiliy_Ivanov', [], ['data.csv'])]"
      ]
     },
     "execution_count": 16,
     "metadata": {},
     "output_type": "execute_result"
    }
   ],
   "source": [
    "list(os.walk(path))"
   ]
  },
  {
   "cell_type": "code",
   "execution_count": 18,
   "metadata": {},
   "outputs": [
    {
     "name": "stdout",
     "output_type": "stream",
     "text": [
      "c:/data/2020-12-05 []\n",
      "c:/data/2020-12-05\\Alexey_Fedorov ['data.csv']\n",
      "c:/data/2020-12-05\\Alexey_Petrov ['data.csv']\n",
      "c:/data/2020-12-05\\Kirill_Smirnov ['data.csv']\n",
      "c:/data/2020-12-05\\Petr_Ivanov ['data.csv']\n",
      "c:/data/2020-12-05\\Petr_Smirnov ['data.csv']\n",
      "c:/data/2020-12-05\\Rostislav_Smirnov ['data.csv']\n"
     ]
    }
   ],
   "source": [
    "for trinity in os.walk(path +'/2020-12-05'):\n",
    "    current_path = trinity[0]\n",
    "    dirs = trinity[1]\n",
    "    files = trinity[2]\n",
    "    \n",
    "    print(current_path, files)"
   ]
  },
  {
   "cell_type": "code",
   "execution_count": 17,
   "metadata": {},
   "outputs": [
    {
     "name": "stdout",
     "output_type": "stream",
     "text": [
      "c:/data/2020-12-05 ['Alexey_Fedorov', 'Alexey_Petrov', 'Kirill_Smirnov', 'Petr_Ivanov', 'Petr_Smirnov', 'Rostislav_Smirnov'] []\n",
      "c:/data/2020-12-05\\Alexey_Fedorov [] ['data.csv']\n",
      "c:/data/2020-12-05\\Alexey_Petrov [] ['data.csv']\n",
      "c:/data/2020-12-05\\Kirill_Smirnov [] ['data.csv']\n",
      "c:/data/2020-12-05\\Petr_Ivanov [] ['data.csv']\n",
      "c:/data/2020-12-05\\Petr_Smirnov [] ['data.csv']\n",
      "c:/data/2020-12-05\\Rostislav_Smirnov [] ['data.csv']\n"
     ]
    }
   ],
   "source": [
    "for current_path, dirs, files in os.walk(path +'/2020-12-05'):\n",
    "    print(current_path, dirs, files)"
   ]
  },
  {
   "cell_type": "code",
   "execution_count": 109,
   "metadata": {},
   "outputs": [
    {
     "data": {
      "text/html": [
       "<div>\n",
       "<style scoped>\n",
       "    .dataframe tbody tr th:only-of-type {\n",
       "        vertical-align: middle;\n",
       "    }\n",
       "\n",
       "    .dataframe tbody tr th {\n",
       "        vertical-align: top;\n",
       "    }\n",
       "\n",
       "    .dataframe thead th {\n",
       "        text-align: right;\n",
       "    }\n",
       "</style>\n",
       "<table border=\"1\" class=\"dataframe\">\n",
       "  <thead>\n",
       "    <tr style=\"text-align: right;\">\n",
       "      <th></th>\n",
       "      <th>Unnamed: 0</th>\n",
       "      <th>product_id</th>\n",
       "      <th>quantity</th>\n",
       "      <th>date</th>\n",
       "      <th>name</th>\n",
       "    </tr>\n",
       "  </thead>\n",
       "  <tbody>\n",
       "    <tr>\n",
       "      <td>0</td>\n",
       "      <td>0</td>\n",
       "      <td>47</td>\n",
       "      <td>1</td>\n",
       "      <td>2020-12-03</td>\n",
       "      <td>Alexey_Smirnov</td>\n",
       "    </tr>\n",
       "    <tr>\n",
       "      <td>1</td>\n",
       "      <td>1</td>\n",
       "      <td>57</td>\n",
       "      <td>1</td>\n",
       "      <td>2020-12-03</td>\n",
       "      <td>Alexey_Smirnov</td>\n",
       "    </tr>\n",
       "    <tr>\n",
       "      <td>2</td>\n",
       "      <td>2</td>\n",
       "      <td>14</td>\n",
       "      <td>2</td>\n",
       "      <td>2020-12-03</td>\n",
       "      <td>Alexey_Smirnov</td>\n",
       "    </tr>\n",
       "    <tr>\n",
       "      <td>3</td>\n",
       "      <td>3</td>\n",
       "      <td>52</td>\n",
       "      <td>1</td>\n",
       "      <td>2020-12-03</td>\n",
       "      <td>Alexey_Smirnov</td>\n",
       "    </tr>\n",
       "    <tr>\n",
       "      <td>4</td>\n",
       "      <td>4</td>\n",
       "      <td>1</td>\n",
       "      <td>4</td>\n",
       "      <td>2020-12-03</td>\n",
       "      <td>Alexey_Smirnov</td>\n",
       "    </tr>\n",
       "  </tbody>\n",
       "</table>\n",
       "</div>"
      ],
      "text/plain": [
       "   Unnamed: 0  product_id  quantity        date            name\n",
       "0           0          47         1  2020-12-03  Alexey_Smirnov\n",
       "1           1          57         1  2020-12-03  Alexey_Smirnov\n",
       "2           2          14         2  2020-12-03  Alexey_Smirnov\n",
       "3           3          52         1  2020-12-03  Alexey_Smirnov\n",
       "4           4           1         4  2020-12-03  Alexey_Smirnov"
      ]
     },
     "execution_count": 109,
     "metadata": {},
     "output_type": "execute_result"
    }
   ],
   "source": [
    "# Создаю единый датафрейм:\n",
    "\n",
    "df = pd.DataFrame()\n",
    "\n",
    "for current_path, dirs, files in os.walk(path):\n",
    "    for file in files:\n",
    "        data_path = f'{current_path}/{file}'\n",
    "        \n",
    "# Достаю дату и имя и добавляю их в столбцы:\n",
    "\n",
    "        path_parts = current_path.split('\\\\')\n",
    "                \n",
    "        temp_df = pd.read_csv(data_path)\n",
    "        temp_df['date'] = path_parts[-2]\n",
    "        temp_df['name'] = path_parts[-1]\n",
    "        \n",
    "# Объединяю датафреймы:\n",
    "\n",
    "        df = pd.concat((df, temp_df))\n",
    "    \n",
    "df.head()    "
   ]
  },
  {
   "cell_type": "code",
   "execution_count": 21,
   "metadata": {},
   "outputs": [
    {
     "data": {
      "text/html": [
       "<div>\n",
       "<style scoped>\n",
       "    .dataframe tbody tr th:only-of-type {\n",
       "        vertical-align: middle;\n",
       "    }\n",
       "\n",
       "    .dataframe tbody tr th {\n",
       "        vertical-align: top;\n",
       "    }\n",
       "\n",
       "    .dataframe thead th {\n",
       "        text-align: right;\n",
       "    }\n",
       "</style>\n",
       "<table border=\"1\" class=\"dataframe\">\n",
       "  <thead>\n",
       "    <tr style=\"text-align: right;\">\n",
       "      <th></th>\n",
       "      <th>product_id</th>\n",
       "      <th>quantity</th>\n",
       "      <th>date</th>\n",
       "      <th>name</th>\n",
       "    </tr>\n",
       "  </thead>\n",
       "  <tbody>\n",
       "    <tr>\n",
       "      <td>0</td>\n",
       "      <td>47</td>\n",
       "      <td>1</td>\n",
       "      <td>2020-12-03</td>\n",
       "      <td>Alexey_Smirnov</td>\n",
       "    </tr>\n",
       "    <tr>\n",
       "      <td>1</td>\n",
       "      <td>57</td>\n",
       "      <td>1</td>\n",
       "      <td>2020-12-03</td>\n",
       "      <td>Alexey_Smirnov</td>\n",
       "    </tr>\n",
       "    <tr>\n",
       "      <td>2</td>\n",
       "      <td>14</td>\n",
       "      <td>2</td>\n",
       "      <td>2020-12-03</td>\n",
       "      <td>Alexey_Smirnov</td>\n",
       "    </tr>\n",
       "    <tr>\n",
       "      <td>3</td>\n",
       "      <td>52</td>\n",
       "      <td>1</td>\n",
       "      <td>2020-12-03</td>\n",
       "      <td>Alexey_Smirnov</td>\n",
       "    </tr>\n",
       "    <tr>\n",
       "      <td>4</td>\n",
       "      <td>1</td>\n",
       "      <td>4</td>\n",
       "      <td>2020-12-03</td>\n",
       "      <td>Alexey_Smirnov</td>\n",
       "    </tr>\n",
       "  </tbody>\n",
       "</table>\n",
       "</div>"
      ],
      "text/plain": [
       "   product_id  quantity        date            name\n",
       "0          47         1  2020-12-03  Alexey_Smirnov\n",
       "1          57         1  2020-12-03  Alexey_Smirnov\n",
       "2          14         2  2020-12-03  Alexey_Smirnov\n",
       "3          52         1  2020-12-03  Alexey_Smirnov\n",
       "4           1         4  2020-12-03  Alexey_Smirnov"
      ]
     },
     "execution_count": 21,
     "metadata": {},
     "output_type": "execute_result"
    }
   ],
   "source": [
    "# Чищу датафрейм:\n",
    "\n",
    "df.drop(columns=['Unnamed: 0'], inplace=True)\n",
    "df.reset_index(drop=True, inplace=True)\n",
    "\n",
    "df.head()"
   ]
  },
  {
   "cell_type": "code",
   "execution_count": 47,
   "metadata": {},
   "outputs": [
    {
     "data": {
      "text/html": [
       "<div>\n",
       "<style scoped>\n",
       "    .dataframe tbody tr th:only-of-type {\n",
       "        vertical-align: middle;\n",
       "    }\n",
       "\n",
       "    .dataframe tbody tr th {\n",
       "        vertical-align: top;\n",
       "    }\n",
       "\n",
       "    .dataframe thead th {\n",
       "        text-align: right;\n",
       "    }\n",
       "</style>\n",
       "<table border=\"1\" class=\"dataframe\">\n",
       "  <thead>\n",
       "    <tr style=\"text-align: right;\">\n",
       "      <th></th>\n",
       "      <th>name</th>\n",
       "      <th>quantity</th>\n",
       "    </tr>\n",
       "  </thead>\n",
       "  <tbody>\n",
       "    <tr>\n",
       "      <td>3</td>\n",
       "      <td>Alexey_Smirnov</td>\n",
       "      <td>52</td>\n",
       "    </tr>\n",
       "    <tr>\n",
       "      <td>13</td>\n",
       "      <td>Petr_Smirnov</td>\n",
       "      <td>52</td>\n",
       "    </tr>\n",
       "  </tbody>\n",
       "</table>\n",
       "</div>"
      ],
      "text/plain": [
       "              name  quantity\n",
       "3   Alexey_Smirnov        52\n",
       "13    Petr_Smirnov        52"
      ]
     },
     "execution_count": 47,
     "metadata": {},
     "output_type": "execute_result"
    }
   ],
   "source": [
    "# Нахожу топ клиентов по количеству покупок:\n",
    "\n",
    "df.groupby('name', as_index=False) \\\n",
    "  .agg({'quantity': sum}) \\\n",
    "  .sort_values('quantity', ascending=False) \\\n",
    "  .head(2)"
   ]
  },
  {
   "cell_type": "code",
   "execution_count": 122,
   "metadata": {},
   "outputs": [
    {
     "data": {
      "text/html": [
       "<div>\n",
       "<style scoped>\n",
       "    .dataframe tbody tr th:only-of-type {\n",
       "        vertical-align: middle;\n",
       "    }\n",
       "\n",
       "    .dataframe tbody tr th {\n",
       "        vertical-align: top;\n",
       "    }\n",
       "\n",
       "    .dataframe thead th {\n",
       "        text-align: right;\n",
       "    }\n",
       "</style>\n",
       "<table border=\"1\" class=\"dataframe\">\n",
       "  <thead>\n",
       "    <tr style=\"text-align: right;\">\n",
       "      <th></th>\n",
       "      <th>product_id</th>\n",
       "      <th>quantity</th>\n",
       "    </tr>\n",
       "  </thead>\n",
       "  <tbody>\n",
       "    <tr>\n",
       "      <td>22</td>\n",
       "      <td>27</td>\n",
       "      <td>20</td>\n",
       "    </tr>\n",
       "    <tr>\n",
       "      <td>42</td>\n",
       "      <td>56</td>\n",
       "      <td>18</td>\n",
       "    </tr>\n",
       "    <tr>\n",
       "      <td>21</td>\n",
       "      <td>24</td>\n",
       "      <td>15</td>\n",
       "    </tr>\n",
       "    <tr>\n",
       "      <td>51</td>\n",
       "      <td>74</td>\n",
       "      <td>15</td>\n",
       "    </tr>\n",
       "    <tr>\n",
       "      <td>32</td>\n",
       "      <td>41</td>\n",
       "      <td>14</td>\n",
       "    </tr>\n",
       "    <tr>\n",
       "      <td>27</td>\n",
       "      <td>34</td>\n",
       "      <td>13</td>\n",
       "    </tr>\n",
       "    <tr>\n",
       "      <td>66</td>\n",
       "      <td>94</td>\n",
       "      <td>13</td>\n",
       "    </tr>\n",
       "    <tr>\n",
       "      <td>46</td>\n",
       "      <td>66</td>\n",
       "      <td>13</td>\n",
       "    </tr>\n",
       "    <tr>\n",
       "      <td>65</td>\n",
       "      <td>92</td>\n",
       "      <td>12</td>\n",
       "    </tr>\n",
       "    <tr>\n",
       "      <td>38</td>\n",
       "      <td>50</td>\n",
       "      <td>12</td>\n",
       "    </tr>\n",
       "  </tbody>\n",
       "</table>\n",
       "</div>"
      ],
      "text/plain": [
       "    product_id  quantity\n",
       "22          27        20\n",
       "42          56        18\n",
       "21          24        15\n",
       "51          74        15\n",
       "32          41        14\n",
       "27          34        13\n",
       "66          94        13\n",
       "46          66        13\n",
       "65          92        12\n",
       "38          50        12"
      ]
     },
     "execution_count": 122,
     "metadata": {},
     "output_type": "execute_result"
    }
   ],
   "source": [
    "# Нахожу топ 10 товаров по колчиству проданных единиц:\n",
    "\n",
    "product_sales = df.groupby('product_id', as_index=False) \\\n",
    "    .agg({'quantity': 'sum'}) \\\n",
    "    .sort_values('quantity', ascending=False) \\\n",
    "    .head(10)\n",
    "\n",
    "product_sales"
   ]
  },
  {
   "cell_type": "code",
   "execution_count": 110,
   "metadata": {},
   "outputs": [
    {
     "data": {
      "text/plain": [
       "<matplotlib.axes._subplots.AxesSubplot at 0xd3fc288>"
      ]
     },
     "execution_count": 110,
     "metadata": {},
     "output_type": "execute_result"
    },
    {
     "data": {
      "image/png": "[encoded data removed]",
      "text/plain": [
       "<Figure size 432x288 with 1 Axes>"
      ]
     },
     "metadata": {
      "needs_background": "light"
     },
     "output_type": "display_data"
    }
   ],
   "source": [
    "# Строю barplot:\n",
    "\n",
    "sns.barplot(data=product_sales, x='product_id', y='quantity', palette='Blues' )"
   ]
  },
  {
   "cell_type": "code",
   "execution_count": 119,
   "metadata": {},
   "outputs": [
    {
     "data": {
      "text/html": [
       "<div>\n",
       "<style scoped>\n",
       "    .dataframe tbody tr th:only-of-type {\n",
       "        vertical-align: middle;\n",
       "    }\n",
       "\n",
       "    .dataframe tbody tr th {\n",
       "        vertical-align: top;\n",
       "    }\n",
       "\n",
       "    .dataframe thead th {\n",
       "        text-align: right;\n",
       "    }\n",
       "</style>\n",
       "<table border=\"1\" class=\"dataframe\">\n",
       "  <thead>\n",
       "    <tr style=\"text-align: right;\">\n",
       "      <th></th>\n",
       "      <th>product_id</th>\n",
       "      <th>quantity</th>\n",
       "    </tr>\n",
       "  </thead>\n",
       "  <tbody>\n",
       "    <tr>\n",
       "      <td>42</td>\n",
       "      <td>56</td>\n",
       "      <td>18</td>\n",
       "    </tr>\n",
       "  </tbody>\n",
       "</table>\n",
       "</div>"
      ],
      "text/plain": [
       "    product_id  quantity\n",
       "42          56        18"
      ]
     },
     "execution_count": 119,
     "metadata": {},
     "output_type": "execute_result"
    }
   ],
   "source": [
    "# Нахожу сколько товаров с id = 56 было продано:\n",
    "\n",
    "product_sales.query('product_id == 56')"
   ]
  },
  {
   "cell_type": "code",
   "execution_count": 112,
   "metadata": {},
   "outputs": [
    {
     "data": {
      "text/plain": [
       "<matplotlib.axes._subplots.AxesSubplot at 0xd597288>"
      ]
     },
     "execution_count": 112,
     "metadata": {},
     "output_type": "execute_result"
    },
    {
     "data": {
      "image/png": "[encoded data removed]",
      "text/plain": [
       "<Figure size 432x288 with 1 Axes>"
      ]
     },
     "metadata": {
      "needs_background": "light"
     },
     "output_type": "display_data"
    }
   ],
   "source": [
    "# Строю распределение продаж по дням и нахожу дни с минимальным и максимальным числом покупок:\n",
    "\n",
    "df.groupby('date') \\\n",
    "    .agg({'quantity':'sum'}) \\\n",
    "    .plot(kind='bar')"
   ]
  },
  {
   "cell_type": "code",
   "execution_count": 134,
   "metadata": {},
   "outputs": [
    {
     "data": {
      "text/html": [
       "<div>\n",
       "<style scoped>\n",
       "    .dataframe tbody tr th:only-of-type {\n",
       "        vertical-align: middle;\n",
       "    }\n",
       "\n",
       "    .dataframe tbody tr th {\n",
       "        vertical-align: top;\n",
       "    }\n",
       "\n",
       "    .dataframe thead th {\n",
       "        text-align: right;\n",
       "    }\n",
       "</style>\n",
       "<table border=\"1\" class=\"dataframe\">\n",
       "  <thead>\n",
       "    <tr style=\"text-align: right;\">\n",
       "      <th></th>\n",
       "      <th>name</th>\n",
       "      <th>product_id</th>\n",
       "      <th>num_rep_days</th>\n",
       "    </tr>\n",
       "  </thead>\n",
       "  <tbody>\n",
       "    <tr>\n",
       "      <td>37</td>\n",
       "      <td>Anton_Ivanov</td>\n",
       "      <td>15</td>\n",
       "      <td>2</td>\n",
       "    </tr>\n",
       "    <tr>\n",
       "      <td>92</td>\n",
       "      <td>Petr_Fedorov</td>\n",
       "      <td>94</td>\n",
       "      <td>2</td>\n",
       "    </tr>\n",
       "  </tbody>\n",
       "</table>\n",
       "</div>"
      ],
      "text/plain": [
       "            name  product_id  num_rep_days\n",
       "37  Anton_Ivanov          15             2\n",
       "92  Petr_Fedorov          94             2"
      ]
     },
     "execution_count": 134,
     "metadata": {},
     "output_type": "execute_result"
    }
   ],
   "source": [
    "# Нахожу сколько клиентов совершили повторные покупки в разные дни:\n",
    "\n",
    "df.groupby(['name', 'product_id'], as_index=False) \\\n",
    "    .agg({'date':'nunique'}) \\\n",
    "    .rename(columns={'date': 'num_rep_days'}) \\\n",
    "    .query('num_rep_days > 1')"
   ]
  }
 ],
 "metadata": {
  "kernelspec": {
   "display_name": "Python 3",
   "language": "python",
   "name": "python3"
  },
  "language_info": {
   "codemirror_mode": {
    "name": "ipython",
    "version": 3
   },
   "file_extension": ".py",
   "mimetype": "text/x-python",
   "name": "python",
   "nbconvert_exporter": "python",
   "pygments_lexer": "ipython3",
   "version": "3.7.4"
  }
 },
 "nbformat": 4,
 "nbformat_minor": 2
}
